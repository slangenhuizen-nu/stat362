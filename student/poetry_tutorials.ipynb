{
 "cells": [
  {
   "cell_type": "raw",
   "id": "b940ae13",
   "metadata": {
    "vscode": {
     "languageId": "raw"
    }
   },
   "source": [
    "---\n",
    "title: \"Poetry: A Tool for Managing Python Environments and Dependencies\"\n",
    "number-sections: true\n",
    "format: \n",
    "  html:\n",
    "    toc: true\n",
    "    toc-title: Contents\n",
    "    self-contained: false\n",
    "jupyter: python3\n",
    "---"
   ]
  },
  {
   "cell_type": "code",
   "execution_count": 2,
   "id": "7cbf06f5",
   "metadata": {},
   "outputs": [
    {
     "name": "stdout",
     "output_type": "stream",
     "text": [
      "3.12.6 (tags/v3.12.6:a4a2d2b, Sep  6 2024, 20:11:23) [MSC v.1940 64 bit (AMD64)]\n",
      "c:\\Users\\lsi8012\\OneDrive - Northwestern University\\FA25\\STAT362\\workspace\\.venv\\Scripts\\python.exe\n"
     ]
    }
   ],
   "source": [
    "import sys\n",
    "print(sys.version)\n",
    "print(sys.executable)"
   ]
  },
  {
   "cell_type": "markdown",
   "id": "5dbe3964",
   "metadata": {},
   "source": [
    "## Poetry: package management initialization\n",
    "\n",
    "1. **Go to your project folder**\n",
    "   ```bash\n",
    "   cd <project-folder>\n",
    "2.**(One-time) Put the venv inside the project**\n",
    "\n",
    "   ```bash\n",
    "   poetry config virtualenvs.in-project true\n",
    "   ```\n",
    "3. **Initialize Poetry**\n",
    "   ```bash\n",
    "   poetry add requests pandas numpy xgboost  \n",
    "   ```\n",
    "**This:**\n",
    "- updates `pyproject.toml` with dependencies\n",
    "- creates/updates `poetry.lock`\n",
    "- creates the virtual environment (first time)"
   ]
  },
  {
   "cell_type": "markdown",
   "id": "6b743415",
   "metadata": {},
   "source": [
    "5. Activate the environment\n",
    "\n",
    "- **macOS/Linux (when using in-project venv):**\n",
    "\n",
    "    ```bash\n",
    "    source .venv/bin/activate\n",
    "    ```\n",
    "\n",
    "- **Windows (PowerShell/CMD, in-project venv):**\n",
    "\n",
    "    ```bash\n",
    "    .venv\\Scripts\\activate\n",
    "    ```"
   ]
  },
  {
   "cell_type": "markdown",
   "id": "20a75033",
   "metadata": {},
   "source": [
    "1. **Run Commands**\n",
    "   \n",
    "   ```bash\n",
    "    poetry run python -V\n",
    "    poetry run jupyter lab\n",
    "    ```\n",
    "\n",
    "2. **Expected layout** \n",
    "   ```text\n",
    "   stat362/\n",
    "   ├── pyproject.toml    # Poetry configuration & dependencies\n",
    "   ├── poetry.lock       # Locked dependency versions\n",
    "   ├── .venv/            # Virtual environment (if configured)\n",
    "   └── homeworks/\n",
    "   └── quizzess/\n",
    "   └── project/\n",
    "   └── Lectures/\n",
    "   ```\n"
   ]
  },
  {
   "cell_type": "markdown",
   "id": "7a3d8e23",
   "metadata": {},
   "source": [
    "## Poetry Package Management Cheat Sheet\n",
    "\n",
    "### Automatic (recommended)\n",
    "\n",
    "#### Add a Package\n",
    "\n",
    "```bash\n",
    "poetry add <package>\n",
    "```\n",
    "Updates both `pyproject.toml` and `poetry.lock`\n",
    "\n",
    "#### Remove a Package\n",
    "\n",
    "```bash\n",
    "poetry remove <package>\n",
    "```\n",
    "Also updates both `pyproject.toml` and `poetry.lock`"
   ]
  },
  {
   "cell_type": "markdown",
   "id": "637d6873",
   "metadata": {},
   "source": [
    "### Manual Version Editing Workflow\n",
    "\n",
    "If you manually edited versions in `pyproject.toml`:\n",
    "\n",
    "Step 1: Validate the file\n",
    "\n",
    "```bash\n",
    "poetry check\n",
    "```\n",
    "\n",
    "Step 2: Update lock file (choose one)\n",
    "\n",
    "```bash\n",
    "# Re-resolve using current constraints\n",
    "poetry lock --no-update\n",
    "\n",
    "# OR: Refresh to latest within your version ranges\n",
    "poetry update [<package>]\n",
    "\n",
    "Step 3: Install from lockfile\n",
    "\n",
    "```bash\n",
    "# Standard installation\n",
    "poetry install\n",
    "\n",
    "# Dependencies only (skip installing current project)\n",
    "poetry install --no-root\n",
    "```\n",
    "\n",
    "#### Understanding `--no-root`\n",
    "\n",
    "- **Don’t install the current project** (“root package”).\n",
    "- Use this only if you don’t need:\n",
    "  - `import your_project`\n",
    "  - Any scripts defined in `[tool.poetry.scripts]`\n"
   ]
  },
  {
   "cell_type": "markdown",
   "id": "8253f154",
   "metadata": {},
   "source": [
    "#### Best Practice Tip\n",
    "\n",
    "- ✅ **Prefer** `poetry add/remove` **over hand-editing**.\n",
    "\n",
    "If you do hand-edit, always follow the sequence:\n",
    "\n",
    "```bash\n",
    "poetry check            # validate pyproject.toml\n",
    "poetry lock --no-update # re-resolve with current constraints\n",
    "poetry install          # install from the lockfile\n",
    "```"
   ]
  },
  {
   "cell_type": "markdown",
   "id": "f615493c",
   "metadata": {},
   "source": [
    "## Install Existing Dependencies\n",
    "\n",
    "Step 1: If you have an existing `pyproject.toml`, install project dependencies (from the folder containing `pyproject.toml`):\n",
    "\n",
    "```bash\n",
    "poetry install  --no-root\n",
    "```"
   ]
  },
  {
   "cell_type": "markdown",
   "id": "8e536c82",
   "metadata": {},
   "source": [
    "Step 2: Verify the Python interpreter:\n",
    "\n",
    "```bash\n",
    "poetry run which python\n",
    "```\n",
    "\n",
    "This should point to the `.venv` folder under your project root.\n",
    "\n",
    "Step 3: Restart VS Code and select the Python interpreter from .venv for the best experience."
   ]
  },
  {
   "cell_type": "markdown",
   "id": "4d329eba",
   "metadata": {},
   "source": [
    "## Useful poetry commands"
   ]
  },
  {
   "cell_type": "code",
   "execution_count": 2,
   "id": "fb8ed4c1",
   "metadata": {},
   "outputs": [
    {
     "name": "stdout",
     "output_type": "stream",
     "text": [
      "numpy 1.26.4 Fundamental package for array computing in Python\n",
      "pandas 2.3.2 Powerful data structures for data analysis, time series, and statistics\n",
      "├── numpy >=1.26.0\n",
      "├── python-dateutil >=2.8.2\n",
      "│   └── six >=1.5 \n",
      "├── pytz >=2020.1\n",
      "└── tzdata >=2022.7\n",
      "requests 2.32.5 Python HTTP for Humans.\n",
      "├── certifi >=2017.4.17\n",
      "├── charset-normalizer >=2,<4\n",
      "├── idna >=2.5,<4\n",
      "└── urllib3 >=1.21.1,<3\n"
     ]
    }
   ],
   "source": [
    "!poetry  show --tree"
   ]
  },
  {
   "cell_type": "code",
   "execution_count": 5,
   "id": "19915ef1",
   "metadata": {},
   "outputs": [
    {
     "name": "stdout",
     "output_type": "stream",
     "text": [
      "\n",
      "Virtualenv\n",
      "Python:         3.12.4\n",
      "Implementation: CPython\n",
      "Path:           C:\\Users\\lsi8012\\OneDrive - Northwestern University\\FA25\\STAT362\\workspace\\.venv\n",
      "Executable:     C:\\Users\\lsi8012\\OneDrive - Northwestern University\\FA25\\STAT362\\workspace\\.venv\\Scripts\\python.exe\n",
      "Valid:          True\n",
      "\n",
      "Base\n",
      "Platform:   win32\n",
      "OS:         nt\n",
      "Python:     3.12.4\n",
      "Path:       C:\\Users\\lsi8012\\AppData\\Local\\anaconda3\n",
      "Executable: C:\\Users\\lsi8012\\AppData\\Local\\anaconda3\\python.exe\n"
     ]
    }
   ],
   "source": [
    "!poetry env info"
   ]
  },
  {
   "cell_type": "markdown",
   "id": "12565a7b",
   "metadata": {},
   "source": [
    "## References & Resources\n",
    "\n",
    "- Poetry documentation (home): https://python-poetry.org/docs/\n",
    "- Basic usage (init, add/remove, install): https://python-poetry.org/docs/basic-usage/\n",
    "- CLI reference: `install`, `lock`, `update`:  \n",
    "  - Install: https://python-poetry.org/docs/cli/#install  \n",
    "  - Lock: https://python-poetry.org/docs/cli/#lock  \n",
    "  - Update: https://python-poetry.org/docs/cli/#update\n",
    "- Managing environments (venvs, `poetry shell`): https://python-poetry.org/docs/managing-environments/\n",
    "- Configuration (`virtualenvs.in-project`): https://python-poetry.org/docs/configuration/#virtualenvsin-project\n",
    "- Dependency specification (version constraints): https://python-poetry.org/docs/dependency-specification/\n",
    "- Project scripts (`[tool.poetry.scripts]`): https://python-poetry.org/docs/pyproject/#scripts\n",
    "- Python Packaging User Guide (pip/venv fundamentals): https://packaging.python.org/en/latest/tutorials/installing-packages/\n",
    "\n",
    "\n"
   ]
  }
 ],
 "metadata": {
  "kernelspec": {
   "display_name": "stat362-py3.12",
   "language": "python",
   "name": "python3"
  },
  "language_info": {
   "codemirror_mode": {
    "name": "ipython",
    "version": 3
   },
   "file_extension": ".py",
   "mimetype": "text/x-python",
   "name": "python",
   "nbconvert_exporter": "python",
   "pygments_lexer": "ipython3",
   "version": "3.12.4"
  }
 },
 "nbformat": 4,
 "nbformat_minor": 5
}
